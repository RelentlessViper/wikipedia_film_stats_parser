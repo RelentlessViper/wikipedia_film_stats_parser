{
 "cells": [
  {
   "cell_type": "markdown",
   "metadata": {},
   "source": [
    "### `TODO`:\n",
    "- Figure out the way to debug updated spider;\n",
    "- Save extracted table in json file;\n",
    "- Create a proper dataframe from crawled data;\n",
    "- Start extraction of additional features for each film;\n",
    "- Add proper documentation;\n",
    "- ..."
   ]
  },
  {
   "cell_type": "code",
   "execution_count": 1,
   "metadata": {},
   "outputs": [],
   "source": [
    "# Import necessary dependencies\n",
    "import scrapy\n",
    "from scrapy.crawler import CrawlerProcess\n",
    "from pathlib import Path"
   ]
  },
  {
   "cell_type": "code",
   "execution_count": 2,
   "metadata": {},
   "outputs": [],
   "source": [
    "# Primary information source link\n",
    "web_link = \"https://en.wikipedia.org/wiki/List_of_highest-grossing_films\""
   ]
  },
  {
   "cell_type": "code",
   "execution_count": 4,
   "metadata": {},
   "outputs": [],
   "source": [
    "# Start a project with Scrapy\n",
    "#! scrapy startproject wiki_parsing"
   ]
  },
  {
   "cell_type": "markdown",
   "metadata": {},
   "source": [
    "### Testing area"
   ]
  },
  {
   "cell_type": "code",
   "execution_count": 8,
   "metadata": {},
   "outputs": [],
   "source": [
    "# Create a Scrapy Spider for crawling & save it in spiders/films_spider.py\n",
    "class FilmsSpider(scrapy.Spider):\n",
    "    name = \"films\"\n",
    "\n",
    "    def start_requests(self):\n",
    "        urls = [\n",
    "            \"https://en.wikipedia.org/wiki/List_of_highest-grossing_films\"\n",
    "        ]\n",
    "\n",
    "        for url in urls:\n",
    "            yield scrapy.Request(url=url, callback=self.parse)\n",
    "        \n",
    "    def parse(self, response):\n",
    "        page_name = response.url.split(\"/\")[-1]\n",
    "        filename = f\"films-{page_name}.html\"\n",
    "        Path(filename).write_bytes(response.body)\n",
    "        self.log(f\"Saved file: {filename}\")"
   ]
  },
  {
   "cell_type": "code",
   "execution_count": 6,
   "metadata": {},
   "outputs": [
    {
     "name": "stderr",
     "output_type": "stream",
     "text": [
      "2025-02-26 22:31:05 [scrapy.utils.log] INFO: Scrapy 2.12.0 started (bot: scrapybot)\n",
      "2025-02-26 22:31:05 [scrapy.utils.log] INFO: Versions: lxml 5.3.0.0, libxml2 2.13.5, cssselect 1.2.0, parsel 1.8.1, w3lib 2.1.2, Twisted 23.10.0, Python 3.10.16 (main, Dec 11 2024, 16:24:50) [GCC 11.2.0], pyOpenSSL 24.2.1 (OpenSSL 3.0.15 3 Sep 2024), cryptography 43.0.3, Platform Linux-6.11.0-17-generic-x86_64-with-glibc2.39\n",
      "2025-02-26 22:31:05 [scrapy.addons] INFO: Enabled addons:\n",
      "[]\n",
      "2025-02-26 22:31:05 [scrapy.utils.log] DEBUG: Using reactor: twisted.internet.epollreactor.EPollReactor\n",
      "2025-02-26 22:31:05 [scrapy.extensions.telnet] INFO: Telnet Password: f0b5da904f092a4f\n",
      "2025-02-26 22:31:05 [scrapy.middleware] INFO: Enabled extensions:\n",
      "['scrapy.extensions.corestats.CoreStats',\n",
      " 'scrapy.extensions.telnet.TelnetConsole',\n",
      " 'scrapy.extensions.memusage.MemoryUsage',\n",
      " 'scrapy.extensions.logstats.LogStats']\n",
      "2025-02-26 22:31:05 [scrapy.crawler] INFO: Overridden settings:\n",
      "{'USER_AGENT': 'Mozilla/5.0 (X11; Ubuntu; Linux x86_64; rv:135.0) '\n",
      "               'Gecko/20100101 Firefox/135.0'}\n",
      "2025-02-26 22:31:05 [scrapy.middleware] INFO: Enabled downloader middlewares:\n",
      "['scrapy.downloadermiddlewares.offsite.OffsiteMiddleware',\n",
      " 'scrapy.downloadermiddlewares.httpauth.HttpAuthMiddleware',\n",
      " 'scrapy.downloadermiddlewares.downloadtimeout.DownloadTimeoutMiddleware',\n",
      " 'scrapy.downloadermiddlewares.defaultheaders.DefaultHeadersMiddleware',\n",
      " 'scrapy.downloadermiddlewares.useragent.UserAgentMiddleware',\n",
      " 'scrapy.downloadermiddlewares.retry.RetryMiddleware',\n",
      " 'scrapy.downloadermiddlewares.redirect.MetaRefreshMiddleware',\n",
      " 'scrapy.downloadermiddlewares.httpcompression.HttpCompressionMiddleware',\n",
      " 'scrapy.downloadermiddlewares.redirect.RedirectMiddleware',\n",
      " 'scrapy.downloadermiddlewares.cookies.CookiesMiddleware',\n",
      " 'scrapy.downloadermiddlewares.httpproxy.HttpProxyMiddleware',\n",
      " 'scrapy.downloadermiddlewares.stats.DownloaderStats']\n",
      "2025-02-26 22:31:05 [scrapy.middleware] INFO: Enabled spider middlewares:\n",
      "['scrapy.spidermiddlewares.httperror.HttpErrorMiddleware',\n",
      " 'scrapy.spidermiddlewares.referer.RefererMiddleware',\n",
      " 'scrapy.spidermiddlewares.urllength.UrlLengthMiddleware',\n",
      " 'scrapy.spidermiddlewares.depth.DepthMiddleware']\n",
      "2025-02-26 22:31:05 [scrapy.middleware] INFO: Enabled item pipelines:\n",
      "[]\n",
      "2025-02-26 22:31:05 [scrapy.core.engine] INFO: Spider opened\n",
      "2025-02-26 22:31:05 [scrapy.extensions.logstats] INFO: Crawled 0 pages (at 0 pages/min), scraped 0 items (at 0 items/min)\n",
      "2025-02-26 22:31:05 [scrapy.extensions.telnet] INFO: Telnet console listening on 127.0.0.1:6025\n"
     ]
    },
    {
     "data": {
      "text/plain": [
       "<Deferred at 0x719e23268100>"
      ]
     },
     "execution_count": 6,
     "metadata": {},
     "output_type": "execute_result"
    }
   ],
   "source": [
    "# Create a process with user agent information\n",
    "process = CrawlerProcess(\n",
    "    settings={\n",
    "        \"USER_AGENT\": \"Mozilla/5.0 (X11; Ubuntu; Linux x86_64; rv:135.0) Gecko/20100101 Firefox/135.0\"\n",
    "    }\n",
    ")\n",
    "process.crawl(FilmsSpider)"
   ]
  },
  {
   "cell_type": "code",
   "execution_count": 7,
   "metadata": {},
   "outputs": [
    {
     "name": "stderr",
     "output_type": "stream",
     "text": [
      "2025-02-26 22:31:11 [scrapy.core.engine] DEBUG: Crawled (200) <GET https://en.wikipedia.org/wiki/List_of_highest-grossing_films> (referer: None)\n",
      "2025-02-26 22:31:11 [scrapy.core.scraper] ERROR: Spider error processing <GET https://en.wikipedia.org/wiki/List_of_highest-grossing_films> (referer: None)\n",
      "Traceback (most recent call last):\n",
      "  File \"/home/viper/Data_science/DWV/.dwv_env/lib/python3.10/site-packages/twisted/internet/defer.py\", line 1075, in _runCallbacks\n",
      "    current.result = callback(  # type: ignore[misc]\n",
      "  File \"/tmp/ipykernel_16057/105232638.py\", line 14, in parse\n",
      "    page_name = response.url.split[-1]\n",
      "TypeError: 'builtin_function_or_method' object is not subscriptable\n",
      "2025-02-26 22:31:11 [scrapy.core.engine] INFO: Closing spider (finished)\n",
      "2025-02-26 22:31:11 [scrapy.statscollectors] INFO: Dumping Scrapy stats:\n",
      "{'downloader/request_bytes': 299,\n",
      " 'downloader/request_count': 1,\n",
      " 'downloader/request_method_count/GET': 1,\n",
      " 'downloader/response_bytes': 178311,\n",
      " 'downloader/response_count': 1,\n",
      " 'downloader/response_status_count/200': 1,\n",
      " 'elapsed_time_seconds': 6.571988,\n",
      " 'finish_reason': 'finished',\n",
      " 'finish_time': datetime.datetime(2025, 2, 26, 19, 31, 11, 942686, tzinfo=datetime.timezone.utc),\n",
      " 'httpcompression/response_bytes': 1144205,\n",
      " 'httpcompression/response_count': 1,\n",
      " 'items_per_minute': None,\n",
      " 'log_count/DEBUG': 2,\n",
      " 'log_count/ERROR': 1,\n",
      " 'log_count/INFO': 10,\n",
      " 'memusage/max': 92483584,\n",
      " 'memusage/startup': 92483584,\n",
      " 'response_received_count': 1,\n",
      " 'responses_per_minute': None,\n",
      " 'scheduler/dequeued': 1,\n",
      " 'scheduler/dequeued/memory': 1,\n",
      " 'scheduler/enqueued': 1,\n",
      " 'scheduler/enqueued/memory': 1,\n",
      " 'spider_exceptions/TypeError': 1,\n",
      " 'start_time': datetime.datetime(2025, 2, 26, 19, 31, 5, 370698, tzinfo=datetime.timezone.utc)}\n",
      "2025-02-26 22:31:11 [scrapy.core.engine] INFO: Spider closed (finished)\n"
     ]
    }
   ],
   "source": [
    "process.start()"
   ]
  }
 ],
 "metadata": {
  "kernelspec": {
   "display_name": "Python 3",
   "language": "python",
   "name": "python3"
  },
  "language_info": {
   "codemirror_mode": {
    "name": "ipython",
    "version": 3
   },
   "file_extension": ".py",
   "mimetype": "text/x-python",
   "name": "python",
   "nbconvert_exporter": "python",
   "pygments_lexer": "ipython3",
   "version": "3.10.16"
  }
 },
 "nbformat": 4,
 "nbformat_minor": 2
}
